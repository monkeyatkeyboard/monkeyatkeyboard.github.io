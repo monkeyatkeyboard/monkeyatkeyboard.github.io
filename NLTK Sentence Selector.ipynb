{
 "cells": [
  {
   "cell_type": "code",
   "execution_count": 3,
   "id": "ab671569",
   "metadata": {},
   "outputs": [
    {
     "name": "stdout",
     "output_type": "stream",
     "text": [
      "Requirement already satisfied: nltk in c:\\users\\victo\\anaconda3\\lib\\site-packages (3.7)\n",
      "Requirement already satisfied: joblib in c:\\users\\victo\\anaconda3\\lib\\site-packages (from nltk) (1.1.1)\n",
      "Requirement already satisfied: click in c:\\users\\victo\\anaconda3\\lib\\site-packages (from nltk) (8.0.4)\n",
      "Requirement already satisfied: tqdm in c:\\users\\victo\\anaconda3\\lib\\site-packages (from nltk) (4.64.1)\n",
      "Requirement already satisfied: regex>=2021.8.3 in c:\\users\\victo\\anaconda3\\lib\\site-packages (from nltk) (2022.7.9)\n",
      "Requirement already satisfied: colorama in c:\\users\\victo\\anaconda3\\lib\\site-packages (from click->nltk) (0.4.6)\n",
      "Note: you may need to restart the kernel to use updated packages.\n"
     ]
    }
   ],
   "source": [
    "#pip install nltk"
   ]
  },
  {
   "cell_type": "code",
   "execution_count": 25,
   "id": "c5071590",
   "metadata": {},
   "outputs": [
    {
     "data": {
      "text/plain": [
       "\"The theory of evolution by natural selection was conceived independently by Charles Darwin\\n and Alfred Russel Wallace in the mid-19th century as an explanation for why organisms are adapted\\n to their physical and biological environments. The theory was first set out in detail in Darwin's\\n book On the Origin of Species. Evolution by natural selection is established by observable facts\\n about living organisms: (1) more offspring are often produced than can possibly survive; (2) traits\\n vary among individuals with respect to their morphology, physiology, and behaviour; (3) different traits\\n confer different rates of survival and reproduction (differential fitness); and (4) traits can be passed\\n from generation to generation (heritability of fitness). In successive generations, members of a\\n population are therefore more likely to be replaced by the offspring of parents with favourable characteristics\\n for that environment.\""
      ]
     },
     "execution_count": 25,
     "metadata": {},
     "output_type": "execute_result"
    }
   ],
   "source": [
    "import nltk\n",
    "from nltk.corpus import stopwords\n",
    "from nltk.tokenize import word_tokenize, sent_tokenize\n",
    "nltk.download('punkt')\n",
    "\n",
    "#Input your text for summarizing below:\n",
    "\n",
    "text = \"\"\"The theory of evolution by natural selection was conceived independently by Charles Darwin\n",
    " and Alfred Russel Wallace in the mid-19th century as an explanation for why organisms are adapted\n",
    " to their physical and biological environments. The theory was first set out in detail in Darwin's\n",
    " book On the Origin of Species. Evolution by natural selection is established by observable facts\n",
    " about living organisms: (1) more offspring are often produced than can possibly survive; (2) traits\n",
    " vary among individuals with respect to their morphology, physiology, and behaviour; (3) different traits\n",
    " confer different rates of survival and reproduction (differential fitness); and (4) traits can be passed\n",
    " from generation to generation (heritability of fitness). In successive generations, members of a\n",
    " population are therefore more likely to be replaced by the offspring of parents with favourable characteristics\n",
    " for that environment.\"\"\"\n",
    "\n",
    "text"
   ]
  },
  {
   "cell_type": "code",
   "execution_count": 27,
   "id": "a4f5157d",
   "metadata": {
    "scrolled": true
   },
   "outputs": [],
   "source": [
    "#Next, you need to tokenize the text:\n",
    "\n",
    "stopWords = set(stopwords.words(\"english\"))\n",
    "words = word_tokenize(text)"
   ]
  },
  {
   "cell_type": "code",
   "execution_count": 28,
   "id": "fef574c9",
   "metadata": {},
   "outputs": [],
   "source": [
    "freqTable = dict()\n",
    "for word in words:\n",
    "    word = word.lower()\n",
    "    if word in stopWords:\n",
    "        continue\n",
    "    if word in freqTable:\n",
    "        freqTable[word] += 1\n",
    "    else:\n",
    "        freqTable[word] = 1\n"
   ]
  },
  {
   "cell_type": "code",
   "execution_count": 30,
   "id": "05735b4e",
   "metadata": {},
   "outputs": [
    {
     "name": "stdout",
     "output_type": "stream",
     "text": [
      " Evolution by natural selection is established by observable facts\n",
      " about living organisms: (1) more offspring are often produced than can possibly survive; (2) traits\n",
      " vary among individuals with respect to their morphology, physiology, and behaviour; (3) different traits\n",
      " confer different rates of survival and reproduction (differential fitness); and (4) traits can be passed\n",
      " from generation to generation (heritability of fitness).\n"
     ]
    }
   ],
   "source": [
    "sentences = sent_tokenize(text)\n",
    "sentenceValue = dict()\n",
    "\n",
    "for sentence in sentences:\n",
    "    for word, freq in freqTable.items():\n",
    "        if word in sentence.lower():\n",
    "            if word in sentence.lower():            \n",
    "                if sentence in sentenceValue:\n",
    "                    sentenceValue[sentence] += freq\n",
    "                else:\n",
    "                    sentenceValue[sentence] = freq\n",
    "\n",
    "sumValues = 0\n",
    "for sentence in sentenceValue:\n",
    "    sumValues += sentenceValue[sentence]\n",
    "\n",
    "average = int(sumValues / len(sentenceValue))\n",
    "\n",
    "summary = ''\n",
    "\n",
    "for sentence in sentences:\n",
    "    if (sentence in sentenceValue) and (sentenceValue[sentence] > (1.2 * average)):\n",
    "        summary += \" \" + sentence\n",
    "\n",
    "print(summary)"
   ]
  }
 ],
 "metadata": {
  "kernelspec": {
   "display_name": "Python 3 (ipykernel)",
   "language": "python",
   "name": "python3"
  },
  "language_info": {
   "codemirror_mode": {
    "name": "ipython",
    "version": 3
   },
   "file_extension": ".py",
   "mimetype": "text/x-python",
   "name": "python",
   "nbconvert_exporter": "python",
   "pygments_lexer": "ipython3",
   "version": "3.10.9"
  }
 },
 "nbformat": 4,
 "nbformat_minor": 5
}
